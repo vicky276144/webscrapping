{
  "metadata": {
    "language_info": {
      "name": ""
    },
    "kernelspec": {
      "name": "python",
      "display_name": "Python (Pyodide)",
      "language": "python"
    }
  },
  "nbformat_minor": 4,
  "nbformat": 4,
  "cells": [
    {
      "cell_type": "code",
      "source": "#display the top 10 odi men's cricket team\n",
      "metadata": {
        "trusted": true
      },
      "execution_count": null,
      "outputs": []
    },
    {
      "cell_type": "code",
      "source": "import requests\nfrom bs4 import BeautifulSoup\nimport pandas as pd\n\nurl = \"https://www.icc-cricket.com/rankings/mens/team-rankings/odi\"\nresponse = requests.get(url)\nsoup = BeautifulSoup(response.text, \"html.parser\")\n\nteams = []\n\nfor team in soup.select(\"tbody tr\"):\n    name = team.select(\"td\")[1].text.strip()\n    matches = team.select(\"td\")[2].text.strip()\n    points = team.select(\"td\")[3].text.strip()\n    rating = team.select(\"td\")[4].text.strip()\n    teams.append((name, matches, points, rating))\n\ndf = pd.DataFrame(teams, columns=[\"Team\", \"Matches\", \"Points\", \"Rating\"])\ndf = df.head(10)  # get only top 10 teams\nprint(df)",
      "metadata": {
        "trusted": true
      },
      "execution_count": null,
      "outputs": []
    },
    {
      "cell_type": "code",
      "source": "",
      "metadata": {},
      "execution_count": null,
      "outputs": []
    }
  ]
}