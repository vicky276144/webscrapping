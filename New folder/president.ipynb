{
  "metadata": {
    "language_info": {
      "codemirror_mode": {
        "name": "python",
        "version": 3
      },
      "file_extension": ".py",
      "mimetype": "text/x-python",
      "name": "python",
      "nbconvert_exporter": "python",
      "pygments_lexer": "ipython3",
      "version": "3.8"
    },
    "kernelspec": {
      "name": "python",
      "display_name": "Python (Pyodide)",
      "language": "python"
    }
  },
  "nbformat_minor": 4,
  "nbformat": 4,
  "cells": [
    {
      "cell_type": "code",
      "source": "#display the list of former president",
      "metadata": {
        "trusted": true
      },
      "execution_count": 1,
      "outputs": []
    },
    {
      "cell_type": "code",
      "source": "import requests\nfrom bs4 import BeautifulSoup\nimport pandas as pd\n\nurl = \"https://presidentofindia.nic.in/former-presidents.htm\"\nresponse = requests.get(url)\nsoup = BeautifulSoup(response.text, \"html.parser\")\n\npresidents = []\n\nfor president in soup.select(\"tbody tr\"):\n    name = president.select(\"td\")[0].text.strip()\n    term = president.select(\"td\")[1].text.strip()\n    presidents.append((name, term))\n\ndf = pd.DataFrame(presidents, columns=[\"Name\", \"Term\"])\nprint(df)",
      "metadata": {},
      "execution_count": null,
      "outputs": []
    }
  ]
}